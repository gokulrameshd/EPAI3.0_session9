{
 "cells": [
  {
   "cell_type": "code",
   "execution_count": null,
   "metadata": {},
   "outputs": [],
   "source": [
    "#Faker , statistics"
   ]
  },
  {
   "cell_type": "code",
   "execution_count": 18,
   "metadata": {},
   "outputs": [],
   "source": [
    "#importing packages\n",
    "from faker import  Faker\n",
    "from collections import namedtuple  \n",
    "import datetime\n",
    "from datetime import date \n",
    "from decimal import Decimal\n",
    "import numpy as np\n",
    "import statistics\n",
    "import random\n",
    "\n",
    "\n",
    "fake = Faker()"
   ]
  },
  {
   "cell_type": "code",
   "execution_count": 19,
   "metadata": {},
   "outputs": [
    {
     "data": {
      "text/plain": [
       "{'job': 'Copy',\n",
       " 'company': 'Lutz-Robertson',\n",
       " 'ssn': '855-83-1484',\n",
       " 'residence': '21399 Smith Island Suite 591\\nSmithtown, SC 16727',\n",
       " 'current_location': (Decimal('53.7273325'), Decimal('-137.074727')),\n",
       " 'blood_group': 'A+',\n",
       " 'website': ['http://www.zimmerman-lewis.org/',\n",
       "  'http://www.williams.com/',\n",
       "  'https://carey.com/'],\n",
       " 'username': 'knightbarry',\n",
       " 'name': 'Megan Wilson',\n",
       " 'sex': 'F',\n",
       " 'address': '622 Cristina Creek\\nWest Taylor, NV 70249',\n",
       " 'mail': 'elijahking@hotmail.com',\n",
       " 'birthdate': datetime.date(1961, 9, 24)}"
      ]
     },
     "execution_count": 19,
     "metadata": {},
     "output_type": "execute_result"
    }
   ],
   "source": [
    "fake.profile()"
   ]
  },
  {
   "cell_type": "code",
   "execution_count": 20,
   "metadata": {},
   "outputs": [],
   "source": [
    "def get_named_tuple(population):\n",
    "    '''\n",
    "    This function generates list of fake person details.\n",
    "    Attributes : 'name','blood_type','current_location','DOB'\n",
    "    '''\n",
    "    info_list = []\n",
    "    person = namedtuple('person',['name','blood_type','current_location','DOB']) \n",
    "    for i in range(population):\n",
    "        profile =  fake.profile()\n",
    "        p = person(profile['name'],profile['blood_group'],profile['current_location'],profile['birthdate'])\n",
    "        info_list.append(p)\n",
    "    return info_list"
   ]
  },
  {
   "cell_type": "code",
   "execution_count": 21,
   "metadata": {},
   "outputs": [],
   "source": [
    "def calculateAge(birthDate): \n",
    "    '''\n",
    "    This functions helps to calculate the age from given date to present date.\n",
    "    '''\n",
    "    today = date.today() \n",
    "    age = today.year - birthDate.year - ((today.month, today.day) < (birthDate.month, birthDate.day)) \n",
    "    return age "
   ]
  },
  {
   "cell_type": "code",
   "execution_count": 22,
   "metadata": {},
   "outputs": [],
   "source": [
    "# def named_tuple2dict_list(named_tuple_list):\n",
    "#     \"\"\"\n",
    "#     This function helps to convert named tuples to dictionaries\n",
    "#     \"\"\"\n",
    "#     dict_list = []\n",
    "#     for i in named_tuple_list:\n",
    "#         dict_list.append(dict(i._asdict()))\n",
    "#     return dict_list\n",
    "\n",
    "\n",
    "def get_dict_list(population) :\n",
    "    info_list = []\n",
    "    for i in range(population):\n",
    "        profile =  fake.profile()\n",
    "        d = {'name':profile['name'],\"blood_type\":profile['blood_group'],\"current_location\":profile['current_location'],\n",
    "            \"DOB\": profile['birthdate']}\n",
    "        info_list.append(d)\n",
    "    return info_list"
   ]
  },
  {
   "cell_type": "code",
   "execution_count": 23,
   "metadata": {},
   "outputs": [],
   "source": [
    "def cal_mean_current_location(name_tuple_list):\n",
    "    \"\"\"\n",
    "    This function returns the mean current location.\n",
    "    \"\"\"\n",
    "    lan = []\n",
    "    lon = []\n",
    "    for i in name_tuple_list:\n",
    "        lan.append(i.current_location)\n",
    "        lon.append(i.current_location)\n",
    "    return np.mean(lan),np.mean(lon)"
   ]
  },
  {
   "cell_type": "code",
   "execution_count": 24,
   "metadata": {},
   "outputs": [],
   "source": [
    "def named_tuple_cal(population):\n",
    "    '''\n",
    "    This function calculates and returns the largest blood type, mean-current_location,\n",
    "     oldest_person_age ,average age and time taken for calculation using named tuple.\n",
    "    '''\n",
    "    t0 = datetime.datetime.now()\n",
    "    named_tuple_list = get_named_tuple(population)\n",
    "    lan = []\n",
    "    lon = []\n",
    "    age = []\n",
    "    blood_group = []\n",
    "    for i in named_tuple_list:\n",
    "        lan.append(i.current_location[0])\n",
    "        lon.append(i.current_location[1])\n",
    "        age.append(calculateAge(i.DOB))\n",
    "        blood_group.append(i.blood_type)\n",
    "    try:\n",
    "        largest_blood_type = statistics.mode(blood_group)\n",
    "    except:\n",
    "        largest_blood_type = statistics.multimode(blood_group)\n",
    "    mean_location = (np.mean(lan),np.mean(lon))\n",
    "    maximum_age = np.max(age)\n",
    "    average_age = np.mean(age)\n",
    "    result = largest_blood_type,mean_location,maximum_age,average_age\n",
    "    t1 = datetime.datetime.now()\n",
    "    # print(f'Time taken for claculation{t1-t0}')\n",
    "    time_elapsed = (t1-t0).total_seconds()\n",
    "    return result , time_elapsed , named_tuple_list"
   ]
  },
  {
   "cell_type": "code",
   "execution_count": 25,
   "metadata": {},
   "outputs": [],
   "source": [
    "def dict_cal(population):\n",
    "    '''\n",
    "    This function calculates and returns the\n",
    "    largest blood type, mean-current_location,\n",
    "    oldest_person_age ,average age and time taken for calculation using Dictionary.\n",
    "    '''\n",
    "    t2 = datetime.datetime.now()\n",
    "    dict_list = get_dict_list(population)\n",
    "    lan = [] \n",
    "    lon = []\n",
    "    age = []\n",
    "    blood_group = []\n",
    "    for i in dict_list:\n",
    "        lan.append(i['current_location'][0])\n",
    "        lon.append(i['current_location'][1])\n",
    "        age.append(calculateAge(i['DOB']))\n",
    "        blood_group.append(i['blood_type'])\n",
    "    try:\n",
    "        largest_blood_type = statistics.mode(blood_group)\n",
    "    except:\n",
    "        largest_blood_type = statistics.multimode(blood_group)\n",
    "    mean_location = (np.mean(lan),np.mean(lon))\n",
    "    maximum_age = np.max(age)\n",
    "    average_age = np.mean(age)\n",
    "    result = largest_blood_type,mean_location,maximum_age,average_age\n",
    "#     result = statistics.mode(blood_group), (np.mean(lan),np.mean(lon)),np.max(age),np.mean(age)\n",
    "    t3 = datetime.datetime.now()\n",
    "    # print(f'Time taken for claculation{t3-t2}')\n",
    "    time_elapsed = (t3-t2).total_seconds()\n",
    "    return result,time_elapsed ,dict_list"
   ]
  },
  {
   "cell_type": "code",
   "execution_count": 26,
   "metadata": {},
   "outputs": [],
   "source": [
    "def get_symbol(com_name,i):\n",
    "    \"\"\"\n",
    "    This function returns the symbol for given company name\n",
    "    \"\"\"\n",
    "    symbol = str(i)\n",
    "    for c in com_name:\n",
    "        symbol = symbol + '_' + c[0]\n",
    "    return symbol\n",
    "\n",
    "def get_random_weights():\n",
    "    return random.uniform(0,1)\n",
    "\n",
    "def get_weight(market_capital,total_capital):\n",
    "    \"\"\"\n",
    "    This function return weights calculated based on the market capital\n",
    "    \"\"\"\n",
    "    weight = (market_capital/total_capital)*100\n",
    "    return weight\n",
    "\n",
    "def get_weights_list(market_capital_list ,market_sum):\n",
    "    weight_list = []\n",
    "    for li in market_capital_list:\n",
    "        weight = get_weight(market_capital = li,total_capital = market_sum)\n",
    "        weight_list.append(weight)\n",
    "    return weight_list\n",
    "def get_random_market_capital():\n",
    "    \"\"\"\n",
    "    This function return random market_capital in range of 500,10000.\n",
    "    \"\"\"\n",
    "    return random.uniform(500,10000) \n",
    "\n",
    "def get_market_sum(market_capital_list):\n",
    "    \"\"\"\n",
    "    This function calculate the Total market capital\n",
    "    \"\"\"\n",
    "    total = sum(market_capital_list)\n",
    "    return total\n",
    "\n",
    "def update_weight(comp_list , weight_list):\n",
    "    \"\"\"\n",
    "    This function update the weight in the named tuple with the calculated weights\n",
    "    \"\"\"\n",
    "    for c,w in zip(comp_list , weight_list):\n",
    "        c._replace(weight = w)\n",
    "    return  comp_list\n",
    "\n",
    "def get_random_open():\n",
    "    \"\"\"\n",
    "    This function return the random open values \n",
    "    \"\"\"\n",
    "    return round((random.uniform(300,1000)),2)\n",
    "\n",
    "def get_high(open_value):\n",
    "    \"\"\"\n",
    "    This function calculates the high value\n",
    "    \"\"\"\n",
    "    return  round(open_value*(random.uniform(1,1.2)),3)\n",
    "\n",
    "def get_close(high_value):\n",
    "    \"\"\"\n",
    "    This is function returns the close value\n",
    "    \"\"\"\n",
    "    return round(high_value*(random.uniform(0.8,1)),3)"
   ]
  },
  {
   "cell_type": "code",
   "execution_count": 27,
   "metadata": {},
   "outputs": [],
   "source": [
    "def create_fake_companies_list(no_of_companies):\n",
    "    \"\"\"\n",
    "    This function generates list of fake companies with following attributes,\n",
    "    'com_name', \"symbol\", 'open_value', 'high_value', 'close_value','weight'\n",
    "    \"\"\"\n",
    "    company = namedtuple('company',['com_name', \"symbol\", 'open_value', 'high_value', 'close_value',\"weight\",'market_capital'])\n",
    "    companies_list = []\n",
    "    market_capital_list = []\n",
    "    for i in range(no_of_companies):\n",
    "        com_name = fake.company()\n",
    "        symbol = get_symbol(com_name,i)\n",
    "        weight = get_random_weights()\n",
    "        market_capital = get_random_market_capital()\n",
    "        open_value = get_random_open()\n",
    "        high_value = get_high(open_value)\n",
    "        close_value = get_close(high_value)\n",
    "        companies_list.append(company(com_name,symbol, open_value, high_value, close_value,weight,market_capital))\n",
    "        market_capital_list.append(market_capital)\n",
    "    return companies_list,market_capital_list\n"
   ]
  },
  {
   "cell_type": "code",
   "execution_count": 28,
   "metadata": {},
   "outputs": [],
   "source": [
    "def get_stockmarket_points(companies_list,weight_list):\n",
    "    '''\n",
    "    This function calculates the stock markets opening point , highest point , closing point.\n",
    "    The points are calculated by multiplying the values with the normalized weights and summing up all the values.\n",
    "    '''\n",
    "    open_points = []\n",
    "    high_points = []\n",
    "    close_points = []\n",
    "    sum_weight = sum(weight_list)\n",
    "    for com in companies_list:\n",
    "        open_point = com.open_value * com.weight/sum_weight\n",
    "        high_point = com.high_value * com.weight/sum_weight\n",
    "        close_point = com.close_value * com.weight/sum_weight\n",
    "        open_points.append(open_point)\n",
    "        high_points.append(high_point)\n",
    "        close_points.append(close_point)\n",
    "    return round(sum(open_points),2),round(sum(high_points),2),round(sum(close_points),2)"
   ]
  },
  {
   "cell_type": "markdown",
   "metadata": {},
   "source": [
    "## Population data"
   ]
  },
  {
   "cell_type": "code",
   "execution_count": 29,
   "metadata": {},
   "outputs": [],
   "source": [
    "# Generating the Data for the population of 10000\n",
    "population_data_named_tuple = get_named_tuple(10000)"
   ]
  },
  {
   "cell_type": "code",
   "execution_count": 30,
   "metadata": {},
   "outputs": [
    {
     "name": "stdout",
     "output_type": "stream",
     "text": [
      "Number of profiles in population data : 10000\n"
     ]
    }
   ],
   "source": [
    "print(f'Number of profiles in population data : {len(population_data_named_tuple)}')"
   ]
  },
  {
   "cell_type": "code",
   "execution_count": 31,
   "metadata": {},
   "outputs": [
    {
     "name": "stdout",
     "output_type": "stream",
     "text": [
      "Profile Details:\n",
      "person(name='Ariana Ryan', blood_type='B+', current_location=(Decimal('78.001848'), Decimal('119.624427')), DOB=datetime.date(2011, 3, 12))\n"
     ]
    }
   ],
   "source": [
    "print(\"Profile Details:\")\n",
    "print(population_data_named_tuple[0])"
   ]
  },
  {
   "cell_type": "code",
   "execution_count": 32,
   "metadata": {},
   "outputs": [],
   "source": [
    "result , time_elapsed ,population_data_named_tuple = named_tuple_cal(population = 10000)"
   ]
  },
  {
   "cell_type": "code",
   "execution_count": 33,
   "metadata": {},
   "outputs": [
    {
     "name": "stdout",
     "output_type": "stream",
     "text": [
      "\n",
      "      Calculated using named tuples :\n",
      "      largest_blood_type : B- group,\n",
      "      mean_location : (Decimal('0.0395180334'), Decimal('-0.6464072594')),\n",
      "      mean_location : (Decimal('0.0395180334'), Decimal('-0.6464072594')),\n",
      "      average_age : 57.5914 years,\n",
      "      time_elapsed : 32.810289 seconds \n"
     ]
    }
   ],
   "source": [
    "largest_blood_type,mean_location,maximum_age,average_age = result\n",
    "print(f\"\"\"\n",
    "      Calculated using named tuples :\n",
    "      largest_blood_type : {largest_blood_type} group,\n",
    "      mean_location : {mean_location},\n",
    "      mean_location : {mean_location},\n",
    "      average_age : {average_age} years,\n",
    "      time_elapsed : {time_elapsed} seconds \"\"\")"
   ]
  },
  {
   "cell_type": "code",
   "execution_count": 36,
   "metadata": {},
   "outputs": [],
   "source": [
    "#Creating List of Dictionaries\n",
    "population_data_dict = get_dict_list(population = 10000)"
   ]
  },
  {
   "cell_type": "code",
   "execution_count": 37,
   "metadata": {},
   "outputs": [
    {
     "name": "stdout",
     "output_type": "stream",
     "text": [
      "Number of profiles in the dictionary list : 10000\n",
      "Dictionary data : {'name': 'Dr. Valerie Palmer DDS', 'blood_type': 'O-', 'current_location': (Decimal('56.3301705'), Decimal('20.033789')), 'DOB': datetime.date(1908, 9, 30)}\n"
     ]
    }
   ],
   "source": [
    "print(f\"Number of profiles in the dictionary list : {len(population_data_dict)}\")\n",
    "print(f\"Dictionary data : {population_data_dict[0]}\")"
   ]
  },
  {
   "cell_type": "code",
   "execution_count": 38,
   "metadata": {},
   "outputs": [
    {
     "name": "stdout",
     "output_type": "stream",
     "text": [
      "\n",
      "      Calculated using dictionaries :\n",
      "      largest_blood_type : B- group,\n",
      "      mean_location : (Decimal('-0.02612376395'), Decimal('-1.9173074511')),\n",
      "      mean_location : (Decimal('-0.02612376395'), Decimal('-1.9173074511')),\n",
      "      average_age : 57.4754 years,\n",
      "      time_elapsed : 32.950974 seconds \n"
     ]
    }
   ],
   "source": [
    "result , time_elapsed , dict_list = dict_cal(population = 10000)\n",
    "largest_blood_type,mean_location,maximum_age,average_age = result\n",
    "print(f\"\"\"\n",
    "      Calculated using dictionaries :\n",
    "      largest_blood_type : {largest_blood_type} group,\n",
    "      mean_location : {mean_location},\n",
    "      mean_location : {mean_location},\n",
    "      average_age : {average_age} years,\n",
    "      time_elapsed : {time_elapsed} seconds \"\"\")"
   ]
  },
  {
   "cell_type": "markdown",
   "metadata": {},
   "source": [
    "## Stocks"
   ]
  },
  {
   "cell_type": "code",
   "execution_count": 39,
   "metadata": {},
   "outputs": [
    {
     "ename": "NameError",
     "evalue": "name 'get_random_weights' is not defined",
     "output_type": "error",
     "traceback": [
      "\u001b[1;31m---------------------------------------------------------------------------\u001b[0m",
      "\u001b[1;31mNameError\u001b[0m                                 Traceback (most recent call last)",
      "\u001b[1;32m<ipython-input-39-fb164aa76367>\u001b[0m in \u001b[0;36m<module>\u001b[1;34m()\u001b[0m\n\u001b[1;32m----> 1\u001b[1;33m \u001b[0mcompanies_list\u001b[0m\u001b[1;33m,\u001b[0m\u001b[0mmarket_capital_list\u001b[0m \u001b[1;33m=\u001b[0m \u001b[0mcreate_fake_companies_list\u001b[0m\u001b[1;33m(\u001b[0m\u001b[0mno_of_companies\u001b[0m \u001b[1;33m=\u001b[0m \u001b[1;36m10000\u001b[0m\u001b[1;33m)\u001b[0m\u001b[1;33m\u001b[0m\u001b[0m\n\u001b[0m",
      "\u001b[1;32m<ipython-input-27-c86f772a95b5>\u001b[0m in \u001b[0;36mcreate_fake_companies_list\u001b[1;34m(no_of_companies)\u001b[0m\n\u001b[0;32m     10\u001b[0m         \u001b[0mcom_name\u001b[0m \u001b[1;33m=\u001b[0m \u001b[0mfake\u001b[0m\u001b[1;33m.\u001b[0m\u001b[0mcompany\u001b[0m\u001b[1;33m(\u001b[0m\u001b[1;33m)\u001b[0m\u001b[1;33m\u001b[0m\u001b[0m\n\u001b[0;32m     11\u001b[0m         \u001b[0msymbol\u001b[0m \u001b[1;33m=\u001b[0m \u001b[0mget_symbol\u001b[0m\u001b[1;33m(\u001b[0m\u001b[0mcom_name\u001b[0m\u001b[1;33m,\u001b[0m\u001b[0mi\u001b[0m\u001b[1;33m)\u001b[0m\u001b[1;33m\u001b[0m\u001b[0m\n\u001b[1;32m---> 12\u001b[1;33m         \u001b[0mweight\u001b[0m \u001b[1;33m=\u001b[0m \u001b[0mget_random_weights\u001b[0m\u001b[1;33m(\u001b[0m\u001b[1;33m)\u001b[0m\u001b[1;33m\u001b[0m\u001b[0m\n\u001b[0m\u001b[0;32m     13\u001b[0m         \u001b[0mmarket_capital\u001b[0m \u001b[1;33m=\u001b[0m \u001b[0mget_random_market_capital\u001b[0m\u001b[1;33m(\u001b[0m\u001b[1;33m)\u001b[0m\u001b[1;33m\u001b[0m\u001b[0m\n\u001b[0;32m     14\u001b[0m         \u001b[0mopen_value\u001b[0m \u001b[1;33m=\u001b[0m \u001b[0mget_random_open\u001b[0m\u001b[1;33m(\u001b[0m\u001b[1;33m)\u001b[0m\u001b[1;33m\u001b[0m\u001b[0m\n",
      "\u001b[1;31mNameError\u001b[0m: name 'get_random_weights' is not defined"
     ]
    }
   ],
   "source": [
    "companies_list,market_capital_list = create_fake_companies_list(no_of_companies = 10000)"
   ]
  },
  {
   "cell_type": "code",
   "execution_count": null,
   "metadata": {},
   "outputs": [],
   "source": [
    "print(f\"Number of company profiles : {len(companies_list)}\" )"
   ]
  },
  {
   "cell_type": "code",
   "execution_count": null,
   "metadata": {},
   "outputs": [],
   "source": [
    "print(\"Company profile :\" )\n",
    "print(companies_list[10])"
   ]
  },
  {
   "cell_type": "code",
   "execution_count": null,
   "metadata": {},
   "outputs": [],
   "source": [
    "market_sum  = get_market_sum(market_capital_list)"
   ]
  },
  {
   "cell_type": "code",
   "execution_count": null,
   "metadata": {},
   "outputs": [],
   "source": [
    "weight_list = get_weights_list(market_capital_list ,market_sum)\n",
    "\n",
    "companies_list = update_weight(comp_list = companies_list , weight_list = weight_list)"
   ]
  },
  {
   "cell_type": "code",
   "execution_count": null,
   "metadata": {},
   "outputs": [],
   "source": [
    "# Sum of the weights should be 100(approx)\n",
    "sum(weight_list)"
   ]
  },
  {
   "cell_type": "code",
   "execution_count": null,
   "metadata": {},
   "outputs": [],
   "source": [
    "open_point,high_point , close_point = get_stockmarket_points(companies_list,weight_list)"
   ]
  },
  {
   "cell_type": "code",
   "execution_count": null,
   "metadata": {},
   "outputs": [],
   "source": [
    "print(f\"\"\"\n",
    "    STOCK MARKET REPORT\n",
    "    OPEN : {open_point}\n",
    "    HIGH : {high_point}\n",
    "    CLOSE  : {close_point}\n",
    "      \"\"\")"
   ]
  },
  {
   "cell_type": "code",
   "execution_count": null,
   "metadata": {},
   "outputs": [],
   "source": [
    "type(population_data_named_tuple[0].current_location)"
   ]
  },
  {
   "cell_type": "code",
   "execution_count": null,
   "metadata": {},
   "outputs": [],
   "source": [
    "population_data_named_tuple[0]"
   ]
  },
  {
   "cell_type": "code",
   "execution_count": null,
   "metadata": {},
   "outputs": [],
   "source": []
  },
  {
   "cell_type": "code",
   "execution_count": null,
   "metadata": {},
   "outputs": [],
   "source": []
  }
 ],
 "metadata": {
  "kernelspec": {
   "display_name": "Python 3",
   "language": "python",
   "name": "python3"
  }
 },
 "nbformat": 4,
 "nbformat_minor": 2
}
